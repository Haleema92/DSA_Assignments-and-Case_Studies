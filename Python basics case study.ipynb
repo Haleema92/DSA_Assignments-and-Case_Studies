{
  "nbformat": 4,
  "nbformat_minor": 0,
  "metadata": {
    "colab": {
      "provenance": []
    },
    "kernelspec": {
      "name": "python3",
      "display_name": "Python 3"
    },
    "language_info": {
      "name": "python"
    }
  },
  "cells": [
    {
      "cell_type": "markdown",
      "source": [
        "**1. Bank Account Manager**\n",
        "\n",
        "a. Simulate a bank account with deposit, withdrawal, and balance\n",
        "enquiry operations\n",
        "\n",
        "b. Use variables and data types to store account information\n",
        "\n",
        "c. Implement conditional statements to check for sufficient balance\n",
        "before withdrawal\n",
        "\n",
        "d. Use functions to perform deposit, withdrawal, and balance inquiry\n",
        "operations."
      ],
      "metadata": {
        "id": "GADFqs9x2P5L"
      }
    },
    {
      "cell_type": "markdown",
      "source": [
        "**a. Simulate a bank account**"
      ],
      "metadata": {
        "id": "D5BmQcYz5N8J"
      }
    },
    {
      "cell_type": "code",
      "source": [
        "# Define a simple Bank Account class\n",
        "class BankAccount:\n",
        "    def __init__(self, initial_balance=0):\n",
        "        self.balance = initial_balance\n",
        "\n",
        "# Create an account with an initial balance of 100\n",
        "account = BankAccount(100)\n",
        "print(f\"Initial balance: ₹{account.balance}\")\n"
      ],
      "metadata": {
        "colab": {
          "base_uri": "https://localhost:8080/"
        },
        "id": "WdjH83Wh4EbB",
        "outputId": "5e34660a-e0f6-4997-d150-eb37d4d62115"
      },
      "execution_count": 1,
      "outputs": [
        {
          "output_type": "stream",
          "name": "stdout",
          "text": [
            "Initial balance: ₹100\n"
          ]
        }
      ]
    },
    {
      "cell_type": "markdown",
      "source": [
        "**b. Use Variables and Data Types to Store Account Information**"
      ],
      "metadata": {
        "id": "BWJKhRGr5XR6"
      }
    },
    {
      "cell_type": "markdown",
      "source": [
        "In the code above, **self.balance** is a variable that stores the account balance.\n",
        "It uses an integer (or float, depending on the values) as its data type."
      ],
      "metadata": {
        "id": "OmWHebJx52LN"
      }
    },
    {
      "cell_type": "markdown",
      "source": [
        "**c. Implement Conditional Statements to Check for Sufficient Balance**"
      ],
      "metadata": {
        "id": "Se0BPJBg6EXd"
      }
    },
    {
      "cell_type": "code",
      "source": [
        "# Add deposit and withdrawal methods with balance checks\n",
        "class BankAccount:\n",
        "    def __init__(self, initial_balance=0):\n",
        "        self.balance = initial_balance\n",
        "\n",
        "    def deposit(self, amount):\n",
        "        \"\"\"Deposit money into the account.\"\"\"\n",
        "        if amount > 0:\n",
        "            self.balance += amount\n",
        "            print(f\"Deposited ₹{amount}. New balance is ₹{self.balance}.\")\n",
        "        else:\n",
        "            print(\"Deposit amount must be positive.\")\n",
        "\n",
        "    def withdraw(self, amount):\n",
        "        \"\"\"Withdraw money from the account if sufficient balance exists.\"\"\"\n",
        "        if amount > 0:\n",
        "            if self.balance >= amount:\n",
        "                self.balance -= amount\n",
        "                print(f\"Withdrew ₹{amount}. New balance is ₹{self.balance}.\")\n",
        "            else:\n",
        "                print(\"Insufficient funds.\")\n",
        "        else:\n",
        "            print(\"Withdrawal amount must be positive.\")\n",
        "\n",
        "# Create an account and test deposit and withdrawal\n",
        "account = BankAccount(100)\n",
        "account.deposit(50)\n",
        "account.withdraw(30)\n",
        "account.withdraw(200)  # Test insufficient funds\n"
      ],
      "metadata": {
        "colab": {
          "base_uri": "https://localhost:8080/"
        },
        "id": "NCD5SuqC57QB",
        "outputId": "b902f771-bb1f-42af-8da7-e0f63486ad22"
      },
      "execution_count": 2,
      "outputs": [
        {
          "output_type": "stream",
          "name": "stdout",
          "text": [
            "Deposited ₹50. New balance is ₹150.\n",
            "Withdrew ₹30. New balance is ₹120.\n",
            "Insufficient funds.\n"
          ]
        }
      ]
    },
    {
      "cell_type": "markdown",
      "source": [
        "**d.  Use Functions to Perform Deposit, Withdrawal, and Balance Inquiry Operations**"
      ],
      "metadata": {
        "id": "x48hk_gC6jnE"
      }
    },
    {
      "cell_type": "code",
      "source": [
        "# Full code including deposit, withdrawal, and balance inquiry methods\n",
        "class BankAccount:\n",
        "    def __init__(self, initial_balance=0):\n",
        "        self.balance = initial_balance\n",
        "\n",
        "    def deposit(self, amount):\n",
        "        \"\"\"Deposit money into the account.\"\"\"\n",
        "        if amount > 0:\n",
        "            self.balance += amount\n",
        "            print(f\"Deposited ₹{amount}. New balance is ₹{self.balance}.\")\n",
        "        else:\n",
        "            print(\"Deposit amount must be positive.\")\n",
        "\n",
        "    def withdraw(self, amount):\n",
        "        \"\"\"Withdraw money from the account if sufficient balance exists.\"\"\"\n",
        "        if amount > 0:\n",
        "            if self.balance >= amount:\n",
        "                self.balance -= amount\n",
        "                print(f\"Withdrew ₹{amount}. New balance is ₹{self.balance}.\")\n",
        "            else:\n",
        "                print(\"Insufficient funds.\")\n",
        "        else:\n",
        "            print(\"Withdrawal amount must be positive.\")\n",
        "\n",
        "    def check_balance(self):\n",
        "        \"\"\"Display the current balance.\"\"\"\n",
        "        print(f\"Current balance is ₹{self.balance}.\")\n",
        "\n",
        "# Create an account and perform operations\n",
        "def main():\n",
        "    account = BankAccount(100)\n",
        "    account.check_balance()  # Check initial balance\n",
        "    account.deposit(50)      # Deposit 50\n",
        "    account.withdraw(30)     # Withdraw 30\n",
        "    account.check_balance()  # Check balance after transactions\n",
        "\n",
        "if __name__ == \"__main__\":\n",
        "    main()\n"
      ],
      "metadata": {
        "colab": {
          "base_uri": "https://localhost:8080/"
        },
        "id": "kstR82Bk6uQF",
        "outputId": "7efc4c82-b8c6-491a-dc53-212113955ea2"
      },
      "execution_count": 3,
      "outputs": [
        {
          "output_type": "stream",
          "name": "stdout",
          "text": [
            "Current balance is ₹100.\n",
            "Deposited ₹50. New balance is ₹150.\n",
            "Withdrew ₹30. New balance is ₹120.\n",
            "Current balance is ₹120.\n"
          ]
        }
      ]
    },
    {
      "cell_type": "markdown",
      "source": [
        "**2. Weather Data Analyzer**\n",
        "\n",
        "a. Analyze weather data (temperature, humidity, etc.) for a given region\n",
        "\n",
        "b. Use variables and data types to store weather data\n",
        "\n",
        "c. Implement conditional statements to determine weather conditions\n",
        "(sunny, rainy, etc.)\n",
        "\n",
        "d. Use functions to calculate average temperature and humidity, and print\n",
        "results\n"
      ],
      "metadata": {
        "id": "WhWSUCvS8Hr2"
      }
    },
    {
      "cell_type": "markdown",
      "source": [
        "**a. Analyze weather data**"
      ],
      "metadata": {
        "id": "zsWjDnKd82CB"
      }
    },
    {
      "cell_type": "code",
      "source": [
        "# Define a class to store and analyze weather data\n",
        "class WeatherDataAnalyzer:\n",
        "    def __init__(self, weather_data):\n",
        "        \"\"\"Initialize with a list of weather data dictionaries.\"\"\"\n",
        "        self.weather_data = weather_data\n",
        "\n",
        "# Example usage\n",
        "weather_data = [\n",
        "    {'temperature': 25, 'humidity': 60},\n",
        "    {'temperature': 28, 'humidity': 75},\n",
        "    {'temperature': 22, 'humidity': 50},\n",
        "    {'temperature': 30, 'humidity': 80},\n",
        "]\n",
        "\n",
        "# Create an instance of WeatherDataAnalyzer\n",
        "analyzer = WeatherDataAnalyzer(weather_data)\n",
        "print(\"Weather data initialized.\")\n"
      ],
      "metadata": {
        "colab": {
          "base_uri": "https://localhost:8080/"
        },
        "id": "zNzvaTuK8weI",
        "outputId": "d73f49d1-ef0a-4b6b-fda2-84033a23a760"
      },
      "execution_count": 4,
      "outputs": [
        {
          "output_type": "stream",
          "name": "stdout",
          "text": [
            "Weather data initialized.\n"
          ]
        }
      ]
    },
    {
      "cell_type": "markdown",
      "source": [
        "**b. Use Variables and Data Types to Store Weather Data**"
      ],
      "metadata": {
        "id": "jo9K6kQZ9m8T"
      }
    },
    {
      "cell_type": "markdown",
      "source": [
        "In the class above, **self.weather_data** is a list of dictionaries, with each dictionary containing temperature and humidity values. This uses lists and dictionaries as data types to store the weather data."
      ],
      "metadata": {
        "id": "x18-_otJ9ueT"
      }
    },
    {
      "cell_type": "markdown",
      "source": [
        "**c. Implement Conditional Statements to Determine Weather Conditions**"
      ],
      "metadata": {
        "id": "O_WbqzkN97MF"
      }
    },
    {
      "cell_type": "code",
      "source": [
        "class WeatherDataAnalyzer:\n",
        "    def __init__(self, weather_data):\n",
        "        \"\"\"Initialize with a list of weather data dictionaries.\"\"\"\n",
        "        self.weather_data = weather_data\n",
        "\n",
        "    def determine_weather_condition(self):\n",
        "        \"\"\"Determine and print weather conditions based on temperature and humidity.\"\"\"\n",
        "        for day in self.weather_data:\n",
        "            temp = day['temperature']\n",
        "            humidity = day['humidity']\n",
        "\n",
        "            if temp > 30:\n",
        "                if humidity > 70:\n",
        "                    condition = \"Hot and Humid\"\n",
        "                else:\n",
        "                    condition = \"Hot and Dry\"\n",
        "            elif temp > 20:\n",
        "                if humidity > 70:\n",
        "                    condition = \"Warm and Humid\"\n",
        "                else:\n",
        "                    condition = \"Warm and Dry\"\n",
        "            else:\n",
        "                if humidity > 70:\n",
        "                    condition = \"Cool and Humid\"\n",
        "                else:\n",
        "                    condition = \"Cool and Dry\"\n",
        "\n",
        "            print(f\"Temperature: {temp}°C, Humidity: {humidity}%, Weather Condition: {condition}\")\n",
        "\n",
        "# Example usage\n",
        "analyzer = WeatherDataAnalyzer(weather_data)\n",
        "analyzer.determine_weather_condition()\n"
      ],
      "metadata": {
        "colab": {
          "base_uri": "https://localhost:8080/"
        },
        "id": "N5Bv7-xh9tGC",
        "outputId": "0a03c027-30cc-4f12-a4a1-34abc57da9f5"
      },
      "execution_count": 5,
      "outputs": [
        {
          "output_type": "stream",
          "name": "stdout",
          "text": [
            "Temperature: 25°C, Humidity: 60%, Weather Condition: Warm and Dry\n",
            "Temperature: 28°C, Humidity: 75%, Weather Condition: Warm and Humid\n",
            "Temperature: 22°C, Humidity: 50%, Weather Condition: Warm and Dry\n",
            "Temperature: 30°C, Humidity: 80%, Weather Condition: Warm and Humid\n"
          ]
        }
      ]
    },
    {
      "cell_type": "markdown",
      "source": [
        "**d. Use Functions to Calculate Average Temperature and Humidity, and Print Results**"
      ],
      "metadata": {
        "id": "Ucdx-T4s-M3A"
      }
    },
    {
      "cell_type": "code",
      "source": [
        "class WeatherDataAnalyzer:\n",
        "    def __init__(self, weather_data):\n",
        "        \"\"\"Initialize with a list of weather data dictionaries.\"\"\"\n",
        "        self.weather_data = weather_data\n",
        "\n",
        "    def calculate_average_temperature(self):\n",
        "        \"\"\"Calculate and return the average temperature.\"\"\"\n",
        "        total_temp = sum(day['temperature'] for day in self.weather_data)\n",
        "        average_temp = total_temp / len(self.weather_data)\n",
        "        return average_temp\n",
        "\n",
        "    def calculate_average_humidity(self):\n",
        "        \"\"\"Calculate and return the average humidity.\"\"\"\n",
        "        total_humidity = sum(day['humidity'] for day in self.weather_data)\n",
        "        average_humidity = total_humidity / len(self.weather_data)\n",
        "        return average_humidity\n",
        "\n",
        "    def determine_weather_condition(self):\n",
        "        \"\"\"Determine and print weather conditions based on temperature and humidity.\"\"\"\n",
        "        for day in self.weather_data:\n",
        "            temp = day['temperature']\n",
        "            humidity = day['humidity']\n",
        "\n",
        "            if temp > 30:\n",
        "                if humidity > 70:\n",
        "                    condition = \"Hot and Humid\"\n",
        "                else:\n",
        "                    condition = \"Hot and Dry\"\n",
        "            elif temp > 20:\n",
        "                if humidity > 70:\n",
        "                    condition = \"Warm and Humid\"\n",
        "                else:\n",
        "                    condition = \"Warm and Dry\"\n",
        "            else:\n",
        "                if humidity > 70:\n",
        "                    condition = \"Cool and Humid\"\n",
        "                else:\n",
        "                    condition = \"Cool and Dry\"\n",
        "\n",
        "            print(f\"Temperature: {temp}°C, Humidity: {humidity}%, Weather Condition: {condition}\")\n",
        "\n",
        "# Example usage\n",
        "def main():\n",
        "    weather_data = [\n",
        "        {'temperature': 25, 'humidity': 60},\n",
        "        {'temperature': 28, 'humidity': 75},\n",
        "        {'temperature': 22, 'humidity': 50},\n",
        "        {'temperature': 30, 'humidity': 80},\n",
        "    ]\n",
        "\n",
        "    analyzer = WeatherDataAnalyzer(weather_data)\n",
        "\n",
        "    avg_temp = analyzer.calculate_average_temperature()\n",
        "    avg_humidity = analyzer.calculate_average_humidity()\n",
        "\n",
        "    print(f\"Average Temperature: {avg_temp:.2f}°C\")\n",
        "    print(f\"Average Humidity: {avg_humidity:.2f}%\")\n",
        "\n",
        "    analyzer.determine_weather_condition()\n",
        "\n",
        "if __name__ == \"__main__\":\n",
        "    main()\n"
      ],
      "metadata": {
        "colab": {
          "base_uri": "https://localhost:8080/"
        },
        "id": "x0aFPIX--Tu_",
        "outputId": "94b278d5-734c-42a5-e44a-6fb01a232370"
      },
      "execution_count": 6,
      "outputs": [
        {
          "output_type": "stream",
          "name": "stdout",
          "text": [
            "Average Temperature: 26.25°C\n",
            "Average Humidity: 66.25%\n",
            "Temperature: 25°C, Humidity: 60%, Weather Condition: Warm and Dry\n",
            "Temperature: 28°C, Humidity: 75%, Weather Condition: Warm and Humid\n",
            "Temperature: 22°C, Humidity: 50%, Weather Condition: Warm and Dry\n",
            "Temperature: 30°C, Humidity: 80%, Weather Condition: Warm and Humid\n"
          ]
        }
      ]
    }
  ]
}